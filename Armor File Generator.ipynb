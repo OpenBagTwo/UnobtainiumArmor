{
 "cells": [
  {
   "cell_type": "markdown",
   "id": "cb80ba6a-e23b-47a6-bf60-7e708a8c9ccc",
   "metadata": {},
   "source": [
    "# Armor JSON Generator\n",
    "\n",
    "Generating the requisite resource / data pack JSONs in a Jupyter notebook"
   ]
  },
  {
   "cell_type": "code",
   "execution_count": 1,
   "id": "a1da8d0d-196b-409b-9b2d-8e82556307a2",
   "metadata": {},
   "outputs": [],
   "source": [
    "import json\n",
    "from pathlib import Path\n",
    "from typing import Any, Dict, Optional, Sequence"
   ]
  },
  {
   "cell_type": "code",
   "execution_count": 2,
   "id": "00ff7c61-f9de-4851-a202-5e08619cb290",
   "metadata": {},
   "outputs": [],
   "source": [
    "resources_dir = Path(\"src\") / \"main\" / \"resources\""
   ]
  },
  {
   "cell_type": "code",
   "execution_count": 3,
   "id": "bf916a87-0461-4a27-8e78-e648f9694094",
   "metadata": {},
   "outputs": [],
   "source": [
    "mod_id: str = \"unobtainiumarmor\"\n",
    "armor_pieces: Sequence[str] = (\"helmet\", \"chestplate\", \"leggings\", \"boots\", \"elytra\")"
   ]
  },
  {
   "cell_type": "markdown",
   "id": "adbd51b5-5390-4dea-8186-d0e58bb91f3c",
   "metadata": {},
   "source": [
    "## Set the name of the armor material"
   ]
  },
  {
   "cell_type": "code",
   "execution_count": 4,
   "id": "7ced7c4f-ff69-4e2e-8913-3eac9ebea36b",
   "metadata": {},
   "outputs": [],
   "source": [
    "material: str = \"bumblenado\""
   ]
  },
  {
   "cell_type": "markdown",
   "id": "97da71a4-25d7-4ac4-ae16-fb77922f4712",
   "metadata": {},
   "source": [
    "Also toggle whether we want armored Elytra"
   ]
  },
  {
   "cell_type": "code",
   "execution_count": 5,
   "id": "c9e0d612-5ce2-46a7-bfe3-85022563fcf4",
   "metadata": {},
   "outputs": [],
   "source": [
    "armored_elytra: bool = True"
   ]
  },
  {
   "cell_type": "code",
   "execution_count": 6,
   "id": "01471b58-cb1b-47d7-9f22-42f966ecb3fc",
   "metadata": {},
   "outputs": [],
   "source": [
    "armor_pieces = [\n",
    "    armor_piece\n",
    "    for armor_piece in armor_pieces\n",
    "    if armor_piece != \"elytra\" or armored_elytra is True\n",
    "]"
   ]
  },
  {
   "cell_type": "markdown",
   "id": "d2ef6710-9ca0-443c-8972-61a5f8efe47e",
   "metadata": {},
   "source": [
    "And set the crafting material ingot"
   ]
  },
  {
   "cell_type": "code",
   "execution_count": 7,
   "id": "3b63da86-b2b0-4d44-bfe1-39a0b2a430cd",
   "metadata": {},
   "outputs": [],
   "source": [
    "ingot: Optional[str] = \"bumblenado_gem\""
   ]
  },
  {
   "cell_type": "markdown",
   "id": "b70040ea-4fd8-454d-80c7-4e939cdebd6d",
   "metadata": {},
   "source": [
    "## Update language files\n",
    "\n",
    "English only, sorry."
   ]
  },
  {
   "cell_type": "code",
   "execution_count": 8,
   "id": "81ecd130-efa8-4502-8eff-e4ea50572249",
   "metadata": {},
   "outputs": [],
   "source": [
    "language_file_path = resources_dir / \"assets\" / mod_id / \"lang\" / \"en_us.json\""
   ]
  },
  {
   "cell_type": "code",
   "execution_count": 9,
   "id": "7b14d899-d720-40b7-9dba-a56475db11b1",
   "metadata": {},
   "outputs": [],
   "source": [
    "with open(language_file_path) as language_file:\n",
    "    language_lookup: Dict[str, str] = json.load(language_file)"
   ]
  },
  {
   "cell_type": "code",
   "execution_count": 10,
   "id": "d48c81f9-b03f-45ee-b76a-2cb20cbb7382",
   "metadata": {},
   "outputs": [],
   "source": [
    "prettify = lambda resource_name: resource_name.replace(\"_\", \" \").title()\n",
    "for armor_piece in armor_pieces:\n",
    "    item_name = f\"{material}_{armor_piece}\"\n",
    "    language_lookup[f\"item.{mod_id}.{item_name}\"] = prettify(item_name)\n",
    "if ingot is not None:\n",
    "    language_lookup[f\"item.{mod_id}.{ingot}\"] = prettify(ingot)"
   ]
  },
  {
   "cell_type": "code",
   "execution_count": 11,
   "id": "dd17226b-1142-4820-a115-6feb5bf51a7b",
   "metadata": {},
   "outputs": [],
   "source": [
    "with open(language_file_path, \"w+\") as language_file:\n",
    "    json.dump(language_lookup, language_file, sort_keys=True, indent=2)"
   ]
  },
  {
   "cell_type": "markdown",
   "id": "c2f9d461-4a14-4065-9f81-b2fcdeb38c56",
   "metadata": {},
   "source": [
    "## Create Item JSONs"
   ]
  },
  {
   "cell_type": "markdown",
   "id": "da4af6fc-7caa-4200-b2e0-afe7ab94ef55",
   "metadata": {},
   "source": [
    "We'll do this by filling out a template"
   ]
  },
  {
   "cell_type": "code",
   "execution_count": 12,
   "id": "a2f5163e-6e4e-4eda-9848-e30e72f56a89",
   "metadata": {},
   "outputs": [],
   "source": [
    "model_items_folder = resources_dir / \"assets\" / mod_id / \"models\" / \"item\""
   ]
  },
  {
   "cell_type": "code",
   "execution_count": 13,
   "id": "bd4902ce-76b9-44d3-b0d8-e9c0f6e23c82",
   "metadata": {},
   "outputs": [],
   "source": [
    "def create_new_item_json_from_template(item_name: str) -> None:\n",
    "    \"\"\"Create a new item JSON file from template\n",
    "\n",
    "    Parameters\n",
    "    ----------\n",
    "    item_name : str\n",
    "        The name of the item, which must also be the name of the\n",
    "        item texture file\n",
    "\n",
    "    Returns\n",
    "    -------\n",
    "    None\n",
    "    \"\"\"\n",
    "    json_form: Dict[str, Any] = {\n",
    "        \"parent\": \"item/generated\",\n",
    "        \"textures\": {\"layer0\": f\"{mod_id}:item/{item_name}\"},\n",
    "    }\n",
    "    with open(model_items_folder / f\"{item_name}.json\", \"w+\") as item_file:\n",
    "        json.dump(json_form, item_file, indent=2)"
   ]
  },
  {
   "cell_type": "code",
   "execution_count": 14,
   "id": "6045e990-58b3-45ec-aa0b-3ade9cccca19",
   "metadata": {},
   "outputs": [],
   "source": [
    "for armor_piece in armor_pieces:\n",
    "    item_name = f\"{material}_{armor_piece}\"\n",
    "    create_new_item_json_from_template(item_name)\n",
    "if ingot is not None:\n",
    "    create_new_item_json_from_template(ingot)"
   ]
  },
  {
   "cell_type": "markdown",
   "id": "1ff40411-d536-4e72-a2a9-8fecd448a76e",
   "metadata": {},
   "source": [
    "## Create Recipes"
   ]
  },
  {
   "cell_type": "markdown",
   "id": "9b399015-a799-4619-afd7-63526f9b1702",
   "metadata": {},
   "source": [
    "We'll do this by copying from another material in the mod.\n",
    "\n",
    "**Note that we're not going to template the recipe for the ingot**"
   ]
  },
  {
   "cell_type": "code",
   "execution_count": 15,
   "id": "9e23a847-ca72-4d96-a3ad-47450098c4ef",
   "metadata": {},
   "outputs": [],
   "source": [
    "recipes_folder = resources_dir / \"data\" / mod_id / \"recipes\" / \"armor\""
   ]
  },
  {
   "cell_type": "code",
   "execution_count": 16,
   "id": "cc86fd79-b7e3-4bc3-88a2-a979805b5928",
   "metadata": {},
   "outputs": [],
   "source": [
    "template_material: str = \"cats_eye_gem\""
   ]
  },
  {
   "cell_type": "code",
   "execution_count": 17,
   "id": "7f61f907-48c0-4d48-9115-c34002a46472",
   "metadata": {},
   "outputs": [],
   "source": [
    "def copy_and_adapt_recipe(\n",
    "    item_name: str, template_item: str, ingredient: str, ingredient_key: str = \"m\"\n",
    ") -> None:\n",
    "    \"\"\"Create a crafting recipe file for a new item by replacing the ingredient\n",
    "    in the crafting recipe for another item\n",
    "\n",
    "    Parameters\n",
    "    ----------\n",
    "    item_name : str\n",
    "        The name of the new item\n",
    "    template_item : str\n",
    "        The name of the item whose recipe you're adapting\n",
    "    ingredient : str or tuple\n",
    "        The ingredient, optionally including the namespace\n",
    "        (if no namespace is provided, it will be assumed to be the mod's)\n",
    "    ingredient_key : str, optional\n",
    "        The key for the ingredient. If None is provided,\n",
    "        it's assumed to be \"m\" (for material)\n",
    "\n",
    "    Returns\n",
    "    -------\n",
    "    None\n",
    "    \"\"\"\n",
    "    with open(recipes_folder / f\"{template_item}.json\") as template_file:\n",
    "        recipe = json.load(template_file)\n",
    "    recipe[\"key\"][ingredient_key] = ingredient\n",
    "    with open(recipes_folder / f\"{item_name}.json\", \"w+\") as recipe_file:\n",
    "        json.dump(recipe, recipe_file, indent=2)"
   ]
  },
  {
   "cell_type": "code",
   "execution_count": 18,
   "id": "bef0a806-e4d1-44e2-b343-40caf4d75582",
   "metadata": {},
   "outputs": [],
   "source": [
    "if ingot is not None:\n",
    "    for armor_piece in armor_pieces:\n",
    "        if armor_piece == \"elytra\":\n",
    "            continue\n",
    "        copy_and_adapt_recipe(\n",
    "            f\"{material}_{armor_piece}\", f\"{template_material}_{armor_piece}\", ingot\n",
    "        )\n",
    "if armored_elytra is True:\n",
    "    copy_and_adapt_recipe(\n",
    "        f\"{material}_elytra\",\n",
    "        f\"{template_material}_elytra\",\n",
    "        f\"{material}_chestplate\",\n",
    "        ingredient_key=\"c\",\n",
    "    )"
   ]
  },
  {
   "cell_type": "markdown",
   "id": "56e6ee5a-8176-4381-82f7-adf65edc0407",
   "metadata": {},
   "source": [
    "## I don't bother with tags"
   ]
  },
  {
   "cell_type": "markdown",
   "id": "69faf63f-e619-4547-8bfd-80d9bb105781",
   "metadata": {},
   "source": [
    "Maybe I should?"
   ]
  },
  {
   "cell_type": "markdown",
   "id": "570320ce-8ab0-43e9-bf0a-b5421a8dc833",
   "metadata": {},
   "source": [
    "## And that's it!"
   ]
  },
  {
   "cell_type": "markdown",
   "id": "74c0f3a9-9ea3-4586-974b-23c03515eb02",
   "metadata": {},
   "source": [
    "Time to hop on over to the Java side of the house!"
   ]
  }
 ],
 "metadata": {
  "kernelspec": {
   "display_name": "Python 3 (ipykernel)",
   "language": "python",
   "name": "python3"
  },
  "language_info": {
   "codemirror_mode": {
    "name": "ipython",
    "version": 3
   },
   "file_extension": ".py",
   "mimetype": "text/x-python",
   "name": "python",
   "nbconvert_exporter": "python",
   "pygments_lexer": "ipython3",
   "version": "3.10.5"
  }
 },
 "nbformat": 4,
 "nbformat_minor": 5
}
